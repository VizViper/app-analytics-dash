{
 "cells": [
  {
   "cell_type": "code",
   "execution_count": 1,
   "id": "available-eight",
   "metadata": {},
   "outputs": [],
   "source": [
    "# This file contains all the code used in the codelab. \n",
    "import sqlalchemy\n",
    "\n",
    "# Depending on which database you are using, you'll set some variables differently. \n",
    "# In this code we are inserting only one field with one value. \n",
    "# Feel free to change the insert statement as needed for your own table's requirements.\n",
    "\n",
    "# Uncomment and set the following variables depending on your specific instance and database:\n",
    "connection_name = \"appannie-303104:us-central1:vizviper\"\n",
    "table_name = \"\"\n",
    "table_field = \"\"\n",
    "table_field_value = \"\"\n",
    "db_name = \"\"\n",
    "db_user = \"\"\n",
    "db_password = \"\"\n",
    "\n",
    "# If your database is MySQL, uncomment the following two lines:\n",
    "#driver_name = 'mysql+pymysql'\n",
    "#query_string = dict({\"unix_socket\": \"/cloudsql/{}\".format(connection_name)})\n",
    "\n",
    "# If your database is PostgreSQL, uncomment the following two lines:\n",
    "driver_name = 'postgres+pg8000'\n",
    "query_string =  dict({\"unix_sock\": \"/cloudsql/{}/.s.PGSQL.5432\".format(connection_name)})\n",
    "\n",
    "# If the type of your table_field value is a string, surround it with double quotes.\n",
    "\n",
    "def insert(request):\n",
    "    request_json = request.get_json()\n",
    "    stmt = sqlalchemy.text('insert into table_name (table_field) values (table_field_value)')\n",
    "    \n",
    "    db = sqlalchemy.create_engine(\n",
    "      sqlalchemy.engine.url.URL(\n",
    "        drivername=driver_name,\n",
    "        username=db_user,\n",
    "        password=db_password,\n",
    "        database=db_name,\n",
    "        query=query_string,\n",
    "      ),\n",
    "      pool_size=5,\n",
    "      max_overflow=2,\n",
    "      pool_timeout=30,\n",
    "      pool_recycle=1800\n",
    "    )\n",
    "    try:\n",
    "        with db.connect() as conn:\n",
    "            conn.execute(stmt)\n",
    "    except Exception as e:\n",
    "        return 'Error: {}'.format(str(e))\n",
    "    return 'ok'"
   ]
  },
  {
   "cell_type": "raw",
   "id": "champion-sodium",
   "metadata": {},
   "source": [
    "https://us-west2-appannie-303104.cloudfunctions.net/viper"
   ]
  },
  {
   "cell_type": "code",
   "execution_count": null,
   "id": "violent-scott",
   "metadata": {},
   "outputs": [],
   "source": []
  }
 ],
 "metadata": {
  "kernelspec": {
   "display_name": "Python 3",
   "language": "python",
   "name": "python3"
  },
  "language_info": {
   "codemirror_mode": {
    "name": "ipython",
    "version": 3
   },
   "file_extension": ".py",
   "mimetype": "text/x-python",
   "name": "python",
   "nbconvert_exporter": "python",
   "pygments_lexer": "ipython3",
   "version": "3.7.6"
  }
 },
 "nbformat": 4,
 "nbformat_minor": 5
}
